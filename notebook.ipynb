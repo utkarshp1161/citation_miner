{
 "cells": [
  {
   "cell_type": "markdown",
   "metadata": {},
   "source": [
    "[![Open In Colab](https://colab.research.google.com/assets/colab-badge.svg)](https://colab.research.google.com/github/utkarshp1161/citation_miner/blob/main/notebook.ipynb)\n"
   ]
  },
  {
   "cell_type": "code",
   "execution_count": null,
   "metadata": {},
   "outputs": [],
   "source": [
    "!pip install scholarly\n",
    "!pip install git+https://github.com/utkarshp1161/citation_miner.git"
   ]
  },
  {
   "cell_type": "code",
   "execution_count": null,
   "metadata": {},
   "outputs": [],
   "source": [
    "import numpy as np\n",
    "import matplotlib.pyplot as plt\n",
    "import pandas as pd\n",
    "import seaborn as sns\n",
    "import time\n",
    "import datetime\n",
    "from scholarly import scholarly\n",
    "from citation_miner.script import get_last_n_year_info"
   ]
  },
  {
   "cell_type": "code",
   "execution_count": null,
   "metadata": {},
   "outputs": [],
   "source": [
    "# Retrieve the author's data, fill-in, and print\n",
    "# Get an iterator for the author results\n",
    "search_query = scholarly.search_author('Sergei kalinin')\n",
    "\n",
    "# Retrieve the first result from the iterator\n",
    "first_author_result = next(search_query)\n",
    "scholarly.pprint(first_author_result)"
   ]
  },
  {
   "cell_type": "code",
   "execution_count": null,
   "metadata": {},
   "outputs": [],
   "source": [
    "\n",
    "# Retrieve all the details for the author\n",
    "author_a = scholarly.fill(first_author_result)\n",
    "# scholarly.pprint(author_a)"
   ]
  },
  {
   "cell_type": "code",
   "execution_count": null,
   "metadata": {},
   "outputs": [],
   "source": [
    "# say we need last 5 years data: put n = 5 below\n",
    "current_year = datetime.now().year\n",
    "publication_list, coauthors_info = publication_list,coauthors_info = get_last_n_year_info(author_a, current_year, n = 1)"
   ]
  },
  {
   "cell_type": "code",
   "execution_count": null,
   "metadata": {},
   "outputs": [],
   "source": [
    "import pandas as pd\n",
    "\n",
    "publications_df = pd.DataFrame(publication_list, columns=['Title', 'Year', 'Citation', 'Authors', 'Total Citations', 'Cites per Year', 'Journal'])\n",
    "\n",
    "coauthors_df = pd.DataFrame([\n",
    "    (k, v['Last Publication Year'], v['Last Publication Title'], v['Affiliation'])\n",
    "    for k, v in coauthors_info.items()\n",
    "], columns=['Author', 'Last Publication Year', 'Last Publication Title', 'Affiliation'])\n",
    "\n",
    "coauthors_df['First Name'] = coauthors_df['Author'].apply(lambda x: x.split(' ', 1)[0])\n",
    "coauthors_df['Last Name'] = coauthors_df['Author'].apply(lambda x: x.split(' ')[-1])\n",
    "\n",
    "# Sort by 'Last Name'. If you also need to consider 'First Name', adjust accordingly\n",
    "coauthors_df.sort_values(by=['Last Publication Title'], inplace=True)\n",
    "publications_df.sort_values(by=['Year'], inplace=True)\n",
    "\n"
   ]
  },
  {
   "cell_type": "code",
   "execution_count": null,
   "metadata": {},
   "outputs": [],
   "source": [
    "publications_df"
   ]
  },
  {
   "cell_type": "code",
   "execution_count": null,
   "metadata": {},
   "outputs": [],
   "source": [
    "coauthors_df"
   ]
  }
 ],
 "metadata": {
  "kernelspec": {
   "display_name": "base",
   "language": "python",
   "name": "python3"
  },
  "language_info": {
   "name": "python",
   "version": "3.9.7"
  }
 },
 "nbformat": 4,
 "nbformat_minor": 2
}
